{
 "cells": [
  {
   "cell_type": "code",
   "execution_count": null,
   "id": "medical-border",
   "metadata": {},
   "outputs": [],
   "source": [
    "from ahrs.filters import Mahony\n",
    "from ahrs import Quaternion\n",
    "import csv\n",
    "import pandas as pd\n",
    "import numpy as np\n",
    "import matplotlib.pyplot as plt\n",
    "from tqdm import tqdm\n",
    "from mango.tuner import Tuner\n",
    "import time\n",
    "import pickle "
   ]
  },
  {
   "cell_type": "markdown",
   "id": "final-czech",
   "metadata": {},
   "source": [
    "## Import Sample Head-Pose Data:"
   ]
  },
  {
   "cell_type": "code",
   "execution_count": null,
   "id": "electronic-chocolate",
   "metadata": {},
   "outputs": [],
   "source": [
    "acc = pd.read_csv('Acc.csv',header=None).to_numpy()\n",
    "gyro = pd.read_csv('Gyro.csv',header=None).to_numpy()\n",
    "Or_GT = pd.read_csv('Or_GT.csv',header=None).to_numpy()\n",
    "Euler_GT = np.zeros((Or_GT.shape[0],3))\n",
    "for i in range(Or_GT.shape[0]):\n",
    "    cur_quat = Quaternion(Or_GT[i,:])\n",
    "    Euler_GT[i,:] = cur_quat.to_angles()   \n",
    "plt.plot(Euler_GT[:,1]*57.2958,label='Elevation')\n",
    "plt.plot(Euler_GT[:,2]*57.2958,label='Azimuth')\n",
    "plt.xlabel('Sample Count')\n",
    "plt.ylabel('Rotation (deg)')\n",
    "plt.legend()\n",
    "plt.title('Ground Truth Orientation')\n",
    "plt.show()"
   ]
  },
  {
   "cell_type": "markdown",
   "id": "a0b6e0a5",
   "metadata": {},
   "source": [
    "## Filter Performance (No tuning):"
   ]
  },
  {
   "cell_type": "code",
   "execution_count": null,
   "id": "unlikely-vector",
   "metadata": {},
   "outputs": [],
   "source": [
    "act_OR = Mahony(gyr=gyro, acc=acc,frequency=100).Q\n",
    "Euler_act = np.zeros((act_OR.shape[0],3))\n",
    "for i in range(act_OR.shape[0]):\n",
    "    cur_quat = Quaternion(act_OR[i,:])\n",
    "    Euler_act[i,:] = cur_quat.to_angles() \n",
    "total_error = (np.mean(np.abs(Euler_GT[:,2]-Euler_act[:,2]))*57.2958) + (np.mean(np.abs(Euler_GT[:,1]-Euler_act[:,1]))*57.2958)\n",
    "min_az_error = np.mean(np.abs(Euler_GT[:,2]-Euler_act[:,2]))*57.2958\n",
    "min_ele_error = np.mean(np.abs(Euler_GT[:,1]-Euler_act[:,1]))*57.2958\n",
    "print('MAE:',np.mean((min_az_error,min_ele_error)))\n",
    "print('Azimuth Error: ',min_az_error)\n",
    "print('Elevation Error: ',min_ele_error)"
   ]
  },
  {
   "cell_type": "code",
   "execution_count": null,
   "id": "rough-share",
   "metadata": {},
   "outputs": [],
   "source": [
    "plt.plot(Euler_act[:,1]*57.2958,label='Elevation')\n",
    "plt.plot(Euler_act[:,2]*57.2958,label='Azimuth')\n",
    "plt.xlabel('Sample Count')\n",
    "plt.ylabel('Rotation (deg)')\n",
    "plt.legend()\n",
    "plt.title('Untuned Filter Orientation')\n",
    "plt.show()"
   ]
  },
  {
   "cell_type": "markdown",
   "id": "processed-aside",
   "metadata": {},
   "source": [
    "## Filter Performance (Tuned):"
   ]
  },
  {
   "cell_type": "code",
   "execution_count": null,
   "id": "802f0da7",
   "metadata": {},
   "outputs": [],
   "source": [
    "def objective_NN(gain = 0):\n",
    "    act_OR = Mahony(gyr=gyro, acc=acc,frequency=100,k_P=gain).Q\n",
    "    Euler_act = np.zeros((act_OR.shape[0],3))\n",
    "    for i in range(act_OR.shape[0]):\n",
    "        cur_quat = Quaternion(act_OR[i,:])\n",
    "        Euler_act[i,:] = cur_quat.to_angles() \n",
    "    total_error = (np.mean(np.abs(Euler_GT[:,2]-Euler_act[:,2]))*57.2958) + (np.mean(np.abs(Euler_GT[:,1]-Euler_act[:,1]))*57.2958)\n",
    "    return -total_error\n",
    "\n",
    "\n",
    "def save_res(data, file_name):\n",
    "    pickle.dump( data, open( file_name, \"wb\" ) )\n",
    "    \n",
    "param_dict = {\n",
    "    'gain_list': np.arange(0,10,0.01)\n",
    "}\n",
    "\n",
    "def objfunc(args_list):\n",
    "\n",
    "    objective_evaluated = []\n",
    "    \n",
    "    start_time = time.time()\n",
    "    \n",
    "    for hyper_par in args_list:\n",
    "        gain_list = hyper_par['gain_list']\n",
    "            \n",
    "        objective = objective_NN(gain = gain_list)\n",
    "        objective_evaluated.append(objective)\n",
    "        \n",
    "        end_time = time.time()\n",
    "        print('objective:', objective, ' time:',end_time-start_time)\n",
    "        \n",
    "    return objective_evaluated\n",
    "\n",
    "conf_Dict = dict()\n",
    "conf_Dict['batch_size'] = 1\n",
    "conf_Dict['num_iteration'] = 100\n",
    "conf_Dict['initial_random']= 5\n",
    "tuner = Tuner(param_dict, objfunc,conf_Dict)\n",
    "all_runs = []\n",
    "results = tuner.maximize()\n",
    "all_runs.append(results)\n",
    "save_res(all_runs,'Mahony_log.p')"
   ]
  },
  {
   "cell_type": "code",
   "execution_count": null,
   "id": "10428309",
   "metadata": {},
   "outputs": [],
   "source": [
    "act_OR = Mahony(gyr=gyro, acc=acc,frequency=100,k_P=results['best_params']['gain_list']).Q\n",
    "Euler_act = np.zeros((act_OR.shape[0],3))\n",
    "for i in range(act_OR.shape[0]):\n",
    "    cur_quat = Quaternion(act_OR[i,:])\n",
    "    Euler_act[i,:] = cur_quat.to_angles() \n",
    "total_error = (np.mean(np.abs(Euler_GT[:,2]-Euler_act[:,2]))*57.2958) + (np.mean(np.abs(Euler_GT[:,1]-Euler_act[:,1]))*57.2958)\n",
    "min_az_error = np.mean(np.abs(Euler_GT[:,2]-Euler_act[:,2]))*57.2958\n",
    "min_ele_error = np.mean(np.abs(Euler_GT[:,1]-Euler_act[:,1]))*57.2958\n",
    "print('MAE:',np.mean((min_az_error,min_ele_error)))\n",
    "print('Azimuth Error: ',min_az_error)\n",
    "print('Elevation Error: ',min_ele_error)"
   ]
  },
  {
   "cell_type": "code",
   "execution_count": null,
   "id": "fatal-plant",
   "metadata": {},
   "outputs": [],
   "source": [
    "plt.plot(Euler_GT[:,2]*57.2958,label='GT')\n",
    "plt.plot(Euler_act[:,2]*57.2958,label='Predicted')\n",
    "plt.xlabel('Sample Count')\n",
    "plt.ylabel('Rotation (deg)')\n",
    "plt.legend()\n",
    "plt.title('Azimuth Head-Pose (Tuned)')\n",
    "plt.show()"
   ]
  },
  {
   "cell_type": "code",
   "execution_count": null,
   "id": "bef1e843",
   "metadata": {},
   "outputs": [],
   "source": [
    "plt.plot(Euler_GT[:,1]*57.2958,label='GT')\n",
    "plt.plot(Euler_act[:,1]*57.2958,label='Predicted')\n",
    "plt.xlabel('Sample Count')\n",
    "plt.ylabel('Rotation (deg)')\n",
    "plt.legend()\n",
    "plt.title('Elevation Head-Pose (Tuned)')\n",
    "plt.show()"
   ]
  },
  {
   "cell_type": "code",
   "execution_count": null,
   "id": "6596f3e1",
   "metadata": {},
   "outputs": [],
   "source": []
  }
 ],
 "metadata": {
  "kernelspec": {
   "display_name": "Python 3 (ipykernel)",
   "language": "python",
   "name": "python3"
  },
  "language_info": {
   "codemirror_mode": {
    "name": "ipython",
    "version": 3
   },
   "file_extension": ".py",
   "mimetype": "text/x-python",
   "name": "python",
   "nbconvert_exporter": "python",
   "pygments_lexer": "ipython3",
   "version": "3.8.10"
  }
 },
 "nbformat": 4,
 "nbformat_minor": 5
}
